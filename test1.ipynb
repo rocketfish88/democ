# -*- coding: utf-8 -*-
"""
Created on Sat Jan 12 10:21:50 2019

@author: Andrew
"""
from pandas import Series, DataFrame
import pandas as pd
import numpy as np

data = Series(np.random.randn(10),
index=[['a', 'a', 'a', 'b', 'b', 'b', 'c', 'c', 'd', 'd'],
[1, 2, 3, 1, 2, 3, 1, 2, 2, 3]])
