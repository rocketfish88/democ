import pandas as pd
import numpy as np

arr = np.arange(32).reshape((8,4))
arr
